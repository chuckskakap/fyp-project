{
 "cells": [
  {
   "cell_type": "code",
   "execution_count": 3,
   "metadata": {},
   "outputs": [],
   "source": [
    "output_file_path = 'jawi-rumi2.txt'\n",
    "\n",
    "with open('jawi-rumi-news-full.test', 'r', encoding='utf-8') as file:\n",
    "    lines = file.readlines()\n",
    "\n",
    "with open(output_file_path, 'w', encoding='utf-8') as output_file:\n",
    "    for line in lines:\n",
    "        data = eval(line)  # Convert the string representation to a list\n",
    "        reversed_data = reversed(data)  # Reverse the order of elements in the list\n",
    "        for string in reversed_data:\n",
    "            output_file.write(string + '\\t')\n",
    "        output_file.write('\\n')  # Move to the next line after writing each set of strings\n"
   ]
  },
  {
   "cell_type": "code",
   "execution_count": 2,
   "metadata": {},
   "outputs": [],
   "source": [
    "source_file_path = 'jawi-rumi-news-full.test'\n",
    "output_file_path = 'jawi-rumi2.txt'\n",
    "# max_lines = 1000\n",
    "\n",
    "\n",
    "def contains_unwanted_chars(line):\n",
    "    unwanted_chars = {'(', ')', '-', ':', \"'\"}\n",
    "    return any(char in unwanted_chars for char in ''.join(line))\n",
    "\n",
    "def contains_numbers(line):\n",
    "    return any(char.isdigit() for char in ''.join(line))\n",
    "\n",
    "with open(source_file_path, 'r', encoding='utf-8') as file:\n",
    "    lines = [eval(file.readline()) for _ in range(0,100)]\n",
    "\n",
    "# Remove lines with unwanted characters and numbers\n",
    "filtered_lines = [line for line in lines if not (contains_unwanted_chars(line) or contains_numbers(line))]\n",
    "\n",
    "# Write the result to the output file\n",
    "with open(output_file_path, 'w', encoding='utf-8') as output_file:\n",
    "    for line in filtered_lines:\n",
    "        for string in line:\n",
    "            output_file.write(string + '\\t')\n",
    "        output_file.write('\\n')\n"
   ]
  },
  {
   "cell_type": "code",
   "execution_count": null,
   "metadata": {},
   "outputs": [],
   "source": [
    "output_file_path = 'jawi-rumi2.txt'\n",
    "\n",
    "with open('jawi-rumi-news-full.test', 'r', encoding='utf-8') as file:\n",
    "    lines = file.readlines()\n",
    "\n",
    "with open(output_file_path, 'w', encoding='utf-8') as output_file:\n",
    "    for line in lines:\n",
    "        data = eval(line)  # Convert the string representation to a list\n",
    "        reversed_data = reversed(data)  # Reverse the order of elements in the list\n",
    "        for index, string in enumerate(reversed_data):\n",
    "            output_file.write(string)\n",
    "            if index < len(data) - 1:\n",
    "                output_file.write('\\t')  # Add a tab only if it's not the last string\n",
    "        output_file.write('\\n')  # Move to the next line after writing each set of strings\n"
   ]
  }
 ],
 "metadata": {
  "kernelspec": {
   "display_name": ".venv",
   "language": "python",
   "name": "python3"
  },
  "language_info": {
   "codemirror_mode": {
    "name": "ipython",
    "version": 3
   },
   "file_extension": ".py",
   "mimetype": "text/x-python",
   "name": "python",
   "nbconvert_exporter": "python",
   "pygments_lexer": "ipython3",
   "version": "3.9.18"
  }
 },
 "nbformat": 4,
 "nbformat_minor": 2
}
