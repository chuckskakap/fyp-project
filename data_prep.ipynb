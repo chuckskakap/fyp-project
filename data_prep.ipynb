{
 "cells": [
  {
   "cell_type": "code",
   "execution_count": 1,
   "metadata": {},
   "outputs": [],
   "source": [
    "with open('NirnamaRumiClean.txt', 'r', encoding='utf-8') as file:\n",
    "    # Input text\n",
    "    rumi_text = file.read()\n",
    "\n",
    "# Remove unwanted characters including numbers\n",
    "characters_to_remove = ['\\n', '\\t', '***', '“', '”', '’’', '\"', ',', '!', '?', '’', '‘', ',', ':', ';', \"'\", '’', '‘']\n",
    "rumi_clean_text = rumi_text\n",
    "for char in characters_to_remove:\n",
    "    rumi_clean_text = rumi_clean_text.replace(char, '')\n",
    "\n",
    "# Remove numbers\n",
    "rumi_clean_text = ''.join(char for char in rumi_clean_text if not char.isnumeric())\n",
    "\n",
    "# Convert to lowercase\n",
    "rumi_clean_text = rumi_clean_text.lower().strip()\n",
    "\n",
    "# Split text into rumi_sentences using period as a delimiter\n",
    "rumi_sentences = rumi_clean_text.split('.')\n",
    "\n",
    "# Append period and \\n at the end of each sentence\n",
    "rumi_sentences_new_line = [(sentence.strip() + '\\n') for sentence in rumi_sentences if sentence.strip()]\n",
    "\n",
    "# Write the rumi_sentences to a text file\n",
    "with open('RumiClean.txt', 'w', encoding='utf-8') as file:\n",
    "    file.writelines(rumi_sentences_new_line)\n"
   ]
  },
  {
   "cell_type": "code",
   "execution_count": 3,
   "metadata": {},
   "outputs": [
    {
     "name": "stdout",
     "output_type": "stream",
     "text": [
      "Number of distinct words: 14856\n"
     ]
    }
   ],
   "source": [
    "# Split text into words\n",
    "rumi_words = rumi_clean_text.split()\n",
    "\n",
    "# Remove duplicates by converting the list to a set\n",
    "distinct_words = set(rumi_words)\n",
    "\n",
    "# Count the number of distinct words\n",
    "distinct_word_count = len(distinct_words)\n",
    "\n",
    "print(f\"Number of distinct words: {distinct_word_count}\")\n"
   ]
  },
  {
   "cell_type": "code",
   "execution_count": 4,
   "metadata": {},
   "outputs": [
    {
     "name": "stdout",
     "output_type": "stream",
     "text": [
      "Total number of words: 114658\n"
     ]
    }
   ],
   "source": [
    "# Split text into words\n",
    "rumi_words = rumi_clean_text.split()\n",
    "\n",
    "# Count the total number of words\n",
    "total_word_count = len(rumi_words)\n",
    "\n",
    "print(f\"Total number of words: {total_word_count}\")\n"
   ]
  },
  {
   "cell_type": "code",
   "execution_count": 5,
   "metadata": {},
   "outputs": [],
   "source": [
    "with open('NirnamaJawiClean.txt', 'r', encoding='utf-8') as file:\n",
    "    # Input text\n",
    "    jawi_text = file.read()\n",
    "\n",
    "# Remove unwanted characters including numbers\n",
    "characters_to_remove = ['\\n', '\\t', '***', '“', '”', '’’', '\"', '،', '!', '؟', ',', ':', ';', \"'\", '’', '‘']\n",
    "jawi_clean_text = jawi_text\n",
    "for char in characters_to_remove:\n",
    "    jawi_clean_text = jawi_clean_text.replace(char, '')\n",
    "\n",
    "# Remove numbers\n",
    "jawi_clean_text = ''.join(char for char in jawi_clean_text if not char.isnumeric())\n",
    "\n",
    "# Convert to lowercase\n",
    "jawi_clean_text = jawi_clean_text.lower().strip()\n",
    "\n",
    "# Split text into sentences using period as a delimiter\n",
    "jawi_sentences = jawi_clean_text.split('.')\n",
    "\n",
    "# Append period and \\n at the end of each sentence\n",
    "jawi_sentences_with_newline = [(sentence.strip() + '\\n') for sentence in jawi_sentences if sentence.strip()]\n",
    "\n",
    "# Write the sentences to a text file\n",
    "with open('JawiClean.txt', 'w', encoding='utf-8') as file:\n",
    "    file.writelines(jawi_sentences_with_newline)\n"
   ]
  },
  {
   "cell_type": "code",
   "execution_count": 6,
   "metadata": {},
   "outputs": [
    {
     "name": "stdout",
     "output_type": "stream",
     "text": [
      "Number of distinct words: 16258\n"
     ]
    }
   ],
   "source": [
    "# Split text into words\n",
    "jawi_words = jawi_clean_text.split()\n",
    "\n",
    "# Remove duplicates by converting the list to a set\n",
    "distinct_words = set(jawi_words)\n",
    "\n",
    "# Count the number of distinct words\n",
    "distinct_word_count = len(distinct_words)\n",
    "\n",
    "print(f\"Number of distinct words: {distinct_word_count}\")"
   ]
  },
  {
   "cell_type": "code",
   "execution_count": 7,
   "metadata": {},
   "outputs": [
    {
     "name": "stdout",
     "output_type": "stream",
     "text": [
      "Total number of words: 110861\n"
     ]
    }
   ],
   "source": [
    "# Split text into words\n",
    "jawi_words = jawi_clean_text.split()\n",
    "\n",
    "# Count the total number of words\n",
    "total_word_count = len(jawi_words)\n",
    "\n",
    "print(f\"Total number of words: {total_word_count}\")\n"
   ]
  },
  {
   "cell_type": "code",
   "execution_count": 40,
   "metadata": {},
   "outputs": [],
   "source": [
    "with open('JawiClean.txt', 'r', encoding='utf-8') as jawi_file, \\\n",
    "     open('RumiClean.txt', 'r', encoding='utf-8') as romanized_file, \\\n",
    "     open('jawi-rumi.txt', 'w', encoding='utf-8') as combined_file:\n",
    "\n",
    "    # Read the lines from both files\n",
    "    romanized_lines = romanized_file.readlines()\n",
    "    jawi_lines = jawi_file.readlines()\n",
    "\n",
    "    # Create a list of tuples with total character count and the lines\n",
    "    lines_with_char_count = [(len(jawi_line), jawi_line, romanized_line) for jawi_line, romanized_line in zip(jawi_lines, romanized_lines)]\n",
    "\n",
    "    # Sort the list based on the total character count of lines\n",
    "    lines_with_char_count.sort(key=lambda x: x[0])\n",
    "\n",
    "    # Iterate over the sorted lines and write them to the output file\n",
    "    for char_count, jawi_line, romanized_line in lines_with_char_count:\n",
    "        combined_line = f\"{jawi_line.strip()} \\t {romanized_line.strip()}\\n\"\n",
    "        combined_file.write(combined_line)\n"
   ]
  }
 ],
 "metadata": {
  "kernelspec": {
   "display_name": ".venv",
   "language": "python",
   "name": "python3"
  },
  "language_info": {
   "codemirror_mode": {
    "name": "ipython",
    "version": 3
   },
   "file_extension": ".py",
   "mimetype": "text/x-python",
   "name": "python",
   "nbconvert_exporter": "python",
   "pygments_lexer": "ipython3",
   "version": "3.9.18"
  },
  "orig_nbformat": 4
 },
 "nbformat": 4,
 "nbformat_minor": 2
}
